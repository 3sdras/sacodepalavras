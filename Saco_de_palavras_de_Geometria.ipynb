{
  "nbformat": 4,
  "nbformat_minor": 0,
  "metadata": {
    "colab": {
      "provenance": []
    },
    "kernelspec": {
      "name": "python3",
      "display_name": "Python 3"
    },
    "language_info": {
      "name": "python"
    }
  },
  "cells": [
    {
      "cell_type": "markdown",
      "source": [
        "# Introdução\n",
        "\n",
        "Este documento mostra um exemplo simples de chatbot com base no modelo \"Saco de Palavras\" que pega como entrada uma frase de Geometria Euclidiana Plana e diz se a frase é verdadeira ou falsa.\n",
        "\n",
        "Este é um bloco de texto. As explicações gerais serão dadas em blocos como este. O bloco abaixo é um bloco de código Python. Nele, as linhas com o sinal # são comentários usados para explicar partes específicas do código.\n",
        "\n",
        "Ao passar o mouse sobre um bloco de código como este abaixo, você verá um símbolo de \"play\" no lado esquerdo, que serve para excutar/rodar o script naquele bloco de código.\n",
        "\n",
        "Para mais detalhes, como sempre, leia a dissertação disponível em\n",
        "\n",
        "De maneira geral, o que o script abaixo faz é:\n",
        "\n",
        "\n",
        "1.   Carrega as bibliotecas necessárias (já instaladas no Google Colab).\n",
        "\n",
        "2.   Define as linhas (chamadas de \"documentos\") de treinamento. O saco de palavras será treinado com estas frases. Você pode alterar a lista de frases. A máquina, a princípio, não sabe diferenciar os significados do número 4 da palavra \"quatro\" -- e as frases que você coloca aqui tem influência neste aprendizado.\n",
        "\n",
        "3.   Informa, na ordem, se as frases são verdeiras ou falsas.\n",
        "\n",
        "4.   Define, treina e salva o modelo treinado.\n",
        "\n",
        "Se você clicar \"play\" no código abaixo, ele vai seguir os 4 passos acima e você termina com um arquivo contendo o modelo treinado. Você não verá o arquivo, ele fica no Google Colab.\n",
        "\n"
      ],
      "metadata": {
        "id": "sFYQxhg52mvf"
      }
    },
    {
      "cell_type": "code",
      "source": [
        "!pip install keras\n",
        "\n",
        "from keras.preprocessing.text import Tokenizer\n",
        "from keras.preprocessing.sequence import pad_sequences\n",
        "from keras.models import Sequential\n",
        "from keras.layers import Dense, Embedding, Flatten, Conv1D, MaxPooling1D\n",
        "\n",
        "import numpy as np\n",
        "\n",
        "# Coloque aqui as frases para treinamento, dentro de aspas simples e\n",
        "# separadas por vírgula, dentro dos colchetes.\n",
        "docs = [ 'Um triângulo tem 3 lados. ',\n",
        "         'Um quadrilátero tem 4 lados. ',\n",
        "         'Um triângulo pode ser escaleno, isósceles ou equilátero',\n",
        "         'Um triângulo escaleno tem 0 lados iguais',\n",
        "         'Um triângulo isósceles tem 2 lado iguais',\n",
        "         'um triângulo equilátero tem 3 lados iguais',\n",
        "         'Um quadrado é um quadrilátero',\n",
        "         'Um quadrado é um losango',\n",
        "         'Um quadrado é um retângulo',\n",
        "         'Um retângulo tem 4 ângulos retos',\n",
        "         'Um triângulo é um quadrilátero',\n",
        "         'Um quadrilátero é um triângulo',\n",
        "         'Um quadrado é um triângulo',\n",
        "         'Um retângulo é um triângulo',\n",
        "         'Um losango é um triângulo',\n",
        "         'Um quadrado tem 0 lados iguais',\n",
        "         'Um triângulo tem 2 ângulos retos',\n",
        "         'Um quadrado tem 0 ângulos retos',\n",
        "         'Um triângulo isósceles é escaleno',\n",
        "         'Um triângulo isósceles é equilátero']\n",
        "\n",
        "# Cada número aqui corresponde a uma frase acima, na ordem.\n",
        "# O número 1 significa que a frase é verdadeira, o número 0 significa que é falsa.\n",
        "labels = [1,1,1,1,1,1,1,1,1,1,0,0,0,0,0,0,0,0,0,0]\n",
        "\n",
        "# Mude as linhas a seguir apenas se souber o que está fazendo. Veja mais detalhes\n",
        "# na dissertação\n",
        "labels = np.array(labels)\n",
        "tokenizer = Tokenizer()\n",
        "tokenizer.fit_on_texts(docs)\n",
        "sequences = tokenizer.texts_to_sequences(docs)\n",
        "padded = pad_sequences(sequences, padding='post', maxlen=5)\n",
        "\n",
        "# Definindo o modelo\n",
        "vocab_size = len(tokenizer.word_index) + 1\n",
        "embed_dim = 8\n",
        "model = Sequential()\n",
        "model.add(Embedding(vocab_size, embed_dim, input_length=5))\n",
        "model.add(Conv1D(filters=32, kernel_size=3, activation='relu'))\n",
        "model.add(MaxPooling1D(pool_size=2))\n",
        "model.add(Flatten())\n",
        "model.add(Dense(10, activation='relu'))\n",
        "model.add(Dense(1, activation='sigmoid'))\n",
        "\n",
        "# Compilando e treinando o modelo em 50 épocas (fases de treinamento).\n",
        "# Você pode aumentar o número de épocas para tentar melhorar a qualidade das\n",
        "# respostas. Isso tem custo computacional maior e portanto o arquivo com o\n",
        "# modelo treinado demorará mais para ficar pronto.\n",
        "model.compile(optimizer='adam', loss='binary_crossentropy', metrics=['accuracy'])\n",
        "model.fit(padded, labels, epochs=50, verbose=0)\n",
        "model.save_weights(\"saved_weights.h5\")\n",
        "\n",
        "# Este comando salva o modelo no arquivo \"trained_model.keras\" aqui no Google Colab\n",
        "model.save(\"trained_model.keras\")\n"
      ],
      "metadata": {
        "colab": {
          "base_uri": "https://localhost:8080/"
        },
        "id": "61CF1mAN7JrH",
        "outputId": "595f52b2-061b-4726-f011-de332c304443"
      },
      "execution_count": null,
      "outputs": [
        {
          "output_type": "stream",
          "name": "stdout",
          "text": [
            "Requirement already satisfied: keras in /usr/local/lib/python3.10/dist-packages (2.15.0)\n"
          ]
        }
      ]
    },
    {
      "cell_type": "markdown",
      "source": [
        "# Testando o modelo treinado\n",
        "Agora que que o modelo está pronto, basta carregá-lo para testar. O script a seguir executa os seguintes passos:\n",
        "\n",
        "1.   Carrega o arquivo do modelo treinado.\n",
        "\n",
        "2.   Entra com uma frase sobre Geometria Euclidiana a ser analisada pelo modelo.\n",
        "\n",
        "3.   Depois da frase de entrada ser colocada num padrão reconhecido pelo modelo, o script salva, na variável \"saida\" um valor correspondente à saída do modelo para esta frase.\n",
        "\n",
        "4.   O script então compara a variável \"saida\" com a variável \"limite\". Se o valor de \"saida\" for maior que o valor de \"limite\", a frase será classificada como verdadeira e se for menor, será considerada falsa.\n",
        "\n",
        "Se você clicar para rodar o código abaixo, o modelo treinado no código anterior vai classificar a frase \"Um triângulo pode ser quadrado\". Mude a frase e verfifique as respostas do modelo.\n",
        "\n",
        "Como este script foi feito para servir de exemplo para a dissertação, não houve preocupação com otimização. Com isso, o modelo funciona, mas as respostas, no estágio atual, não conseguem um alto grau de acerto. A otimização deste modelo é um trabalho posterior interessante caso alguma pessoa se interesse em continuar. Além do número de épocas maior, mais frases de treinamento (preferencialmente sem expandir muito o vocabulário) e alterações nas configurações de pad_sequences, embed_dim e Conv1D podem criar modelos melhores.\n",
        "\n"
      ],
      "metadata": {
        "id": "yHQZ12427hiI"
      }
    },
    {
      "cell_type": "code",
      "source": [
        "from keras.models import load_model\n",
        "\n",
        "# carregando o modelo para ser usado\n",
        "loaded_model = load_model(\"trained_model.keras\")\n",
        "\n",
        "# esta variável é a entrada, modifique-a à vontade para testar\n",
        "input_text = \"Um triângulo pode ser quadrado\"\n",
        "sequences = tokenizer.texts_to_sequences([input_text])\n",
        "padded_sequences = pad_sequences(sequences, maxlen=5)\n",
        "\n",
        "# O modelo agora vai analisar a frase de entrada e retornar um número\n",
        "# que corresponde a essa análise\n",
        "saida = loaded_model.predict(padded_sequences)\n",
        "\n",
        "# agora o modelo vai interpretar o valor de saída, de acordo com o limite fornecido\n",
        "limite = 0.5\n",
        "if saida >= limite:\n",
        "    print('\"', input_text, '\"',\" é uma afirmação verdadeira: \", saida)\n",
        "else:\n",
        "    print('\"', input_text, '\"',\" é uma afirmação falsa: \", saida)"
      ],
      "metadata": {
        "colab": {
          "base_uri": "https://localhost:8080/"
        },
        "id": "qwPYsVe47qEv",
        "outputId": "657fa3d1-5208-471c-b366-c896f0ccae3b"
      },
      "execution_count": null,
      "outputs": [
        {
          "output_type": "stream",
          "name": "stdout",
          "text": [
            "1/1 [==============================] - 0s 125ms/step\n",
            "\" Um triângulo pode ser quadrado \"  é uma afirmação falsa:  [[0.46942347]]\n"
          ]
        }
      ]
    },
    {
      "cell_type": "markdown",
      "source": [
        "Mais alguns exemplos de resultados:\n",
        "\n",
        "\" Um quadrilátero tem 5 lados  \"  é uma afirmação verdadeira:  [[0.5022047]]\n",
        "\n",
        "\" Um quadrilátero tem 0 lados \"  é uma afirmação falsa:  [[0.47834444]]\n",
        "\n",
        "\" Um quadrilátero tem 2 lados \"  é uma afirmação verdadeira:  [[0.50960064]]\n",
        "\n",
        "\" Um quadrilátero tem 10 lados \"  é uma afirmação verdadeira:  [[0.5022047]]\n",
        "\n",
        "\" Um triângulo pode ser quadrado \"  é uma afirmação falsa:  [[0.46942347]]\n"
      ],
      "metadata": {
        "id": "a2r8hCyh9ubP"
      }
    }
  ]
}